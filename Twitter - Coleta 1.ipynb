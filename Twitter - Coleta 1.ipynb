{
 "cells": [
  {
   "cell_type": "code",
   "execution_count": 28,
   "metadata": {},
   "outputs": [],
   "source": [
    "from tweepy import OAuthHandler\n",
    "from tweepy import Stream\n",
    "from tweepy.streaming import StreamListener\n",
    "import time"
   ]
  },
  {
   "cell_type": "code",
   "execution_count": 46,
   "metadata": {},
   "outputs": [],
   "source": [
    "# setup security \n",
    "access_token = '1006599768104144896-08Q8MuqehWAXLYxH4qfQPd3ihda2WW'\n",
    "access_token_secret = 'hZGfKdUzY1t2jUrA5t2egNhoKTPCz457orKvFVVDD117G'\n",
    "consumer_key = 'mVDo4ha0iWDHYXdalHH6g8tx7'\n",
    "consumer_secret = 'A6vRmL8VmLwpncQD2at0PHkzBswjT7m70BWmpv0rMkxBbvIoan'\n",
    "\n",
    "# setup file store\n",
    "file = '/Users/fabiola/Desktop/PUC/extracao-dados-web-sociais/twitter/tweets-sample-marcelo.json'"
   ]
  },
  {
   "cell_type": "code",
   "execution_count": 30,
   "metadata": {},
   "outputs": [],
   "source": [
    "class MyListener(StreamListener):\n",
    "        \n",
    "    \n",
    "    def __init__(self, file):\n",
    "        global the_file\n",
    "        self.the_file = open(file, 'w')\n",
    "        \n",
    "    def on_data(self, data):\n",
    "        self.the_file.write(data)\n",
    "        return True\n",
    "    \n",
    "    def on_error(self, status):\n",
    "        print(status)\n",
    "        \n",
    "    def file_close(self):\n",
    "        self.the_file.close()        "
   ]
  },
  {
   "cell_type": "code",
   "execution_count": 37,
   "metadata": {},
   "outputs": [
    {
     "name": "stdout",
     "output_type": "stream",
     "text": [
      "**Finish**\n"
     ]
    }
   ],
   "source": [
    "listener = MyListener(file)\n",
    "oauth = OAuthHandler(consumer_key, consumer_secret)\n",
    "oauth.set_access_token(access_token, access_token_secret)\n",
    "\n",
    "max_time = 90 # in seconds\n",
    "start_time = time.time() \n",
    "\n",
    "## collecting...\n",
    "stream = Stream(oauth, listener)\n",
    "#stream.filter(track=['copa', 'neymar', 'messi'],async=True,languages=['pt'])\n",
    "stream.filter(track=['neymar', 'lukaku', 'messi', 'modric', 'mbappe','pogba','rakitic','cr7','hazard', 'kante', 'kane'],async=True)\n",
    "\n",
    "elapsed_time = (time.time() - start_time)\n",
    "while  elapsed_time < max_time:\n",
    "    elapsed_time = (time.time() - start_time)\n",
    "\n",
    "    \n",
    "print('**Finish**')\n",
    "stream.disconnect()\n",
    "listener.file_close()"
   ]
  },
  {
   "cell_type": "code",
   "execution_count": 38,
   "metadata": {},
   "outputs": [],
   "source": [
    "import json\n",
    "import pandas as pd\n",
    "import matplotlib.pyplot as plt"
   ]
  },
  {
   "cell_type": "code",
   "execution_count": 47,
   "metadata": {},
   "outputs": [],
   "source": [
    "tweets_data = []\n",
    "tweets_file = open(file, \"r\")\n",
    "for line in tweets_file:\n",
    "    try:\n",
    "        tweet = json.loads(line)\n",
    "        tweets_data.append(tweet)\n",
    "    except:\n",
    "        continue\n",
    "        "
   ]
  },
  {
   "cell_type": "code",
   "execution_count": 49,
   "metadata": {},
   "outputs": [
    {
     "name": "stdout",
     "output_type": "stream",
     "text": [
      "   lang                                               text country\n",
      "0    es  RT @Danielaoksdath: Confirmaron la condena a M...    None\n",
      "1    fr  RT @equipedefrance: Pendant que l’équipe qui a...    None\n",
      "2    en  RT @HNS_CFF: 2⃣ days to go.\\n🇭🇷Good night!\\n#B...    None\n",
      "3    en  RT @brfootball: Croatian politicians turned up...    None\n",
      "4    en  @Joe_Dodson @Marcotti @GNev2 @GuillemBalague A...    None\n",
      "5    en  RT @TenCaats: 🚨COMPETITION: If Croatia win the...    None\n",
      "6    es  @elephoneiberia #FranciaCroacia Francia 0-0 Cr...    None\n",
      "7    pt                         Hoje tem #Copa2018 \\n\\n🙌🙌🙌    None\n",
      "8    en  RT @FIFAWorldCup: \"We are still living our dre...    None\n",
      "9    en  If there is one Croatian who isn’t happy they ...    None\n",
      "10   fr  RT @ThierryASM06: @alexandreruiz mon fils Théo...    None\n",
      "11   en  RT @HNS_CFF: 👋 Hey @FrenchTeam!\\n🤔 Just to mak...    None\n",
      "12   en  RT @nairaland: See How Pride And Ego Made This...    None\n",
      "13   fr  RT @equipedefrance: Vous vous demandez comment...    None\n",
      "14   en  #football\\n#France vs #Croatia: #Croatian pres...    None\n",
      "15   es  RT @LTGarlic: Qué bonito, pena que sea #invent...    None\n",
      "16   es  RT @pictoline: Hrvatska! Si tu apoyo está con ...    None\n",
      "17   es  Djokovic fent de Cotarelo o Talegón. https://t...    None\n",
      "18   pt  Pavard deixa o anonimato para se tornar peça i...    None\n",
      "19   es  @elephoneiberia #FranciaCroacia Francia 2-1 Cr...    None\n",
      "20   es  RT @El_Verdugo38: Las falsas fotos de la presi...    None\n",
      "21   es  RT @NoticiasVenezue: ¡HACE CALOR! A propósito ...    None\n",
      "22   pt  RT @guidominguez: Ivan Rakitic, 30 anos, nasce...    None\n",
      "23   fr  RT @ArnaudDucouret: Le site français d’Apple s...    None\n",
      "24   es  @2010MisterChip Admiro coraje y fortaleza de C...    None\n",
      "25   en  If there is one Croatian who isn’t happy they ...    None\n",
      "26   en  RT @sardesairajdeep: The president of the Croa...    None\n",
      "27   fr  @SMBooFy @GwendalMdc @equipedefrance ptdrrr ci...    None\n",
      "28   es  Me gustó un video de @YouTube https://t.co/IWu...    None\n",
      "29   fr  RT @pama3721: Coucou @malaisetele  😂😂😂 https:/...    None\n",
      "30   es  @elephoneiberia #FranciaCroacia Francia 2-0 Cr...    None\n",
      "31   en  @kot_hacker @terrikibiriti @JerotichSeii So it...    None\n",
      "32   fr  RT @lolo84370: 🚨🚨🚨Exclu #FRACRO\\n\\nLa compo de...    None\n",
      "33   es  RT @Nery_Ernesto: ¡Qué historia, señores! 👏🏼  ...    None\n",
      "34   en  RT @dmihalopoulos: Father forgives you. Mass c...    None\n",
      "35   ca    La Francia multicultural vs la Croacia fascita.    None\n",
      "36   es  El chico con el que me escribía se fue a jugar...    None\n",
      "37   es  @geekdegafas @JuanC_MSC @shnors @2010MisterChi...    None\n",
      "38   fr  RT @eclaironslefoot: J-1 avant la grande final...    None\n",
      "39   es  RT @pictoline: Hrvatska! Si tu apoyo está con ...    None\n",
      "40   es  RT @Juezcentral: “Si, son rivales en sus clube...    None\n",
      "41   en  RT @VictorOladokun: DONT BE LIKE NIKOLAI KALIN...    None\n",
      "42   es  @elephoneiberia #FranciaCroacia Francia 1-1 Cr...    None\n",
      "43   es  RT @FutbolAleman: ¿Le harán fuerza a Croacia e...    None\n",
      "44   fr  RT @YanitoMKC: Frero quand t’es joyeux, nous s...    None\n",
      "45   es  RT @20mDeportes: Croacia, a la final exprimida...    None\n",
      "46   es  Así es cómo se sirve a los demás. Es un Gran E...    None\n",
      "47   es  RT @EFEnoticias: Francia y Croacia, así ha sid...    None\n",
      "48   fr  @equipedefrance gagnez pour lui s’il vous plaî...    None\n",
      "49   fr  Il y a 20 ans, j’avais que nous serions Champi...    None\n"
     ]
    }
   ],
   "source": [
    "tweets = pd.DataFrame()\n",
    "\n",
    "tweets['lang'] = ''\n",
    "tweets['text'] = ''\n",
    "tweets['country'] = ''\n",
    "for tweet in tweets_data:\n",
    "    if 'lang' in tweet:\n",
    "        tweets.loc[len(tweets)] = [tweet['lang'],\n",
    "                               tweet['text'],\n",
    "                               tweet['place']['country'] if tweet['place'] != None else None]\n",
    "    \n",
    "print(tweets.head(100))"
   ]
  },
  {
   "cell_type": "code",
   "execution_count": 41,
   "metadata": {},
   "outputs": [
    {
     "data": {
      "text/plain": [
       "<matplotlib.axes._subplots.AxesSubplot at 0x11815b048>"
      ]
     },
     "execution_count": 41,
     "metadata": {},
     "output_type": "execute_result"
    },
    {
     "data": {
      "image/png": "[encoded data removed]",
      "text/plain": [
       "<matplotlib.figure.Figure at 0x1163f0400>"
      ]
     },
     "metadata": {},
     "output_type": "display_data"
    }
   ],
   "source": [
    "tweets_by_lang = tweets['lang'].value_counts()\n",
    "\n",
    "fig, ax = plt.subplots()\n",
    "ax.tick_params(axis='x', labelsize=15)\n",
    "ax.tick_params(axis='y', labelsize=10)\n",
    "ax.set_xlabel('Languages', fontsize=15)\n",
    "ax.set_ylabel('Number of tweets' , fontsize=15)\n",
    "ax.set_title('Top 5 languages', fontsize=15, fontweight='bold')\n",
    "tweets_by_lang[:5].plot(ax=ax, kind='bar', color='red')"
   ]
  },
  {
   "cell_type": "code",
   "execution_count": 42,
   "metadata": {},
   "outputs": [
    {
     "data": {
      "text/plain": [
       "<matplotlib.axes._subplots.AxesSubplot at 0x118186c88>"
      ]
     },
     "execution_count": 42,
     "metadata": {},
     "output_type": "execute_result"
    },
    {
     "data": {
      "image/png": "[encoded data removed]",
      "text/plain": [
       "<matplotlib.figure.Figure at 0x1163f05f8>"
      ]
     },
     "metadata": {},
     "output_type": "display_data"
    }
   ],
   "source": [
    "tweets_by_country = tweets['country'].value_counts()\n",
    "\n",
    "fig, ax = plt.subplots()\n",
    "ax.tick_params(axis='x', labelsize=15)\n",
    "ax.tick_params(axis='y', labelsize=10)\n",
    "ax.set_xlabel('Countries', fontsize=15)\n",
    "ax.set_ylabel('Number of tweets' , fontsize=15)\n",
    "ax.set_title('Top 5 countries', fontsize=15, fontweight='bold')\n",
    "tweets_by_country[:5].plot(ax=ax, kind='bar', color='blue')"
   ]
  },
  {
   "cell_type": "code",
   "execution_count": 43,
   "metadata": {},
   "outputs": [],
   "source": [
    "import re\n",
    "def word_in_text(word, text):\n",
    "    word = word.lower()\n",
    "    text = text.lower()\n",
    "    match = re.search(word, text)\n",
    "    if match:\n",
    "        return True\n",
    "    return False"
   ]
  },
  {
   "cell_type": "code",
   "execution_count": 44,
   "metadata": {},
   "outputs": [
    {
     "data": {
      "text/html": [
       "<div>\n",
       "<style scoped>\n",
       "    .dataframe tbody tr th:only-of-type {\n",
       "        vertical-align: middle;\n",
       "    }\n",
       "\n",
       "    .dataframe tbody tr th {\n",
       "        vertical-align: top;\n",
       "    }\n",
       "\n",
       "    .dataframe thead th {\n",
       "        text-align: right;\n",
       "    }\n",
       "</style>\n",
       "<table border=\"1\" class=\"dataframe\">\n",
       "  <thead>\n",
       "    <tr style=\"text-align: right;\">\n",
       "      <th></th>\n",
       "      <th>lang</th>\n",
       "      <th>text</th>\n",
       "      <th>country</th>\n",
       "      <th>player</th>\n",
       "    </tr>\n",
       "  </thead>\n",
       "  <tbody>\n",
       "    <tr>\n",
       "      <th>0</th>\n",
       "      <td>fr</td>\n",
       "      <td>RT @PassionFootClub: Après Benjamin Pavard c'e...</td>\n",
       "      <td>None</td>\n",
       "      <td>mbappe</td>\n",
       "    </tr>\n",
       "    <tr>\n",
       "      <th>1</th>\n",
       "      <td>pt</td>\n",
       "      <td>tudo a cair em cima do Neymar pelos erros q el...</td>\n",
       "      <td>Portugal</td>\n",
       "      <td>neymar</td>\n",
       "    </tr>\n",
       "    <tr>\n",
       "      <th>2</th>\n",
       "      <td>ca</td>\n",
       "      <td>@surbZ__ Modric</td>\n",
       "      <td>None</td>\n",
       "      <td>modric</td>\n",
       "    </tr>\n",
       "    <tr>\n",
       "      <th>3</th>\n",
       "      <td>es</td>\n",
       "      <td>RT @FichajeGoleador: 💣 BOMBAZO 💣 \\n🇪🇸 Real Mad...</td>\n",
       "      <td>None</td>\n",
       "      <td>hazard</td>\n",
       "    </tr>\n",
       "    <tr>\n",
       "      <th>4</th>\n",
       "      <td>en</td>\n",
       "      <td>RT @xLioneI: Lionel Messi • 2012 • 91 goals in...</td>\n",
       "      <td>None</td>\n",
       "      <td>messi</td>\n",
       "    </tr>\n",
       "    <tr>\n",
       "      <th>5</th>\n",
       "      <td>in</td>\n",
       "      <td>RT @Metro_TV: Kalah atau Menang, Modric Layak ...</td>\n",
       "      <td>None</td>\n",
       "      <td>modric</td>\n",
       "    </tr>\n",
       "    <tr>\n",
       "      <th>6</th>\n",
       "      <td>en</td>\n",
       "      <td>RT @businessinsider: This explains the Neymar ...</td>\n",
       "      <td>None</td>\n",
       "      <td>neymar</td>\n",
       "    </tr>\n",
       "    <tr>\n",
       "      <th>7</th>\n",
       "      <td>es</td>\n",
       "      <td>Creo que es el argumento menos argumento que h...</td>\n",
       "      <td>None</td>\n",
       "      <td>None</td>\n",
       "    </tr>\n",
       "    <tr>\n",
       "      <th>8</th>\n",
       "      <td>fr</td>\n",
       "      <td>RT @mcrs_10: Les dirigeants du Real auraient p...</td>\n",
       "      <td>None</td>\n",
       "      <td>neymar</td>\n",
       "    </tr>\n",
       "    <tr>\n",
       "      <th>9</th>\n",
       "      <td>fr</td>\n",
       "      <td>RT @beinsports_FR: 🗨️ Rakitic : ''Modric mérit...</td>\n",
       "      <td>None</td>\n",
       "      <td>modric</td>\n",
       "    </tr>\n",
       "    <tr>\n",
       "      <th>10</th>\n",
       "      <td>fr</td>\n",
       "      <td>RT @ActuFoot_: Lorsque Paul Pogba et N'Golo Ka...</td>\n",
       "      <td>None</td>\n",
       "      <td>pogba</td>\n",
       "    </tr>\n",
       "    <tr>\n",
       "      <th>11</th>\n",
       "      <td>it</td>\n",
       "      <td>RT @orfini: Abbiamo preso più voti di Salvini....</td>\n",
       "      <td>None</td>\n",
       "      <td>None</td>\n",
       "    </tr>\n",
       "    <tr>\n",
       "      <th>12</th>\n",
       "      <td>en</td>\n",
       "      <td>RT @__mitchbrown: #England #WorldCup⁠ ⁠ XI - \\...</td>\n",
       "      <td>None</td>\n",
       "      <td>kane</td>\n",
       "    </tr>\n",
       "    <tr>\n",
       "      <th>13</th>\n",
       "      <td>und</td>\n",
       "      <td>RT @qew1234567: #شركة_تنظيف_منازل_بالرياض 0509...</td>\n",
       "      <td>None</td>\n",
       "      <td>None</td>\n",
       "    </tr>\n",
       "    <tr>\n",
       "      <th>14</th>\n",
       "      <td>en</td>\n",
       "      <td>RT @EPLBible: Dida played for Brazil at the 19...</td>\n",
       "      <td>None</td>\n",
       "      <td>mbappe</td>\n",
       "    </tr>\n",
       "    <tr>\n",
       "      <th>15</th>\n",
       "      <td>en</td>\n",
       "      <td>LMAO imagine Hazard settling for Europa league...</td>\n",
       "      <td>None</td>\n",
       "      <td>hazard</td>\n",
       "    </tr>\n",
       "    <tr>\n",
       "      <th>16</th>\n",
       "      <td>fr</td>\n",
       "      <td>RT @mcrs_10: Les dirigeants du Real auraient p...</td>\n",
       "      <td>None</td>\n",
       "      <td>neymar</td>\n",
       "    </tr>\n",
       "    <tr>\n",
       "      <th>17</th>\n",
       "      <td>fr</td>\n",
       "      <td>RT @ThugPac_: J’ai un pote qui m’a envoyé ça e...</td>\n",
       "      <td>None</td>\n",
       "      <td>None</td>\n",
       "    </tr>\n",
       "    <tr>\n",
       "      <th>18</th>\n",
       "      <td>fr</td>\n",
       "      <td>C’est au canal 😭😭😭😂😂😂😂😂😂 c’est au grand chêne ...</td>\n",
       "      <td>None</td>\n",
       "      <td>None</td>\n",
       "    </tr>\n",
       "    <tr>\n",
       "      <th>19</th>\n",
       "      <td>en</td>\n",
       "      <td>Hazard playing under an attacking coach for th...</td>\n",
       "      <td>None</td>\n",
       "      <td>hazard</td>\n",
       "    </tr>\n",
       "  </tbody>\n",
       "</table>\n",
       "</div>"
      ],
      "text/plain": [
       "   lang                                               text   country  player\n",
       "0    fr  RT @PassionFootClub: Après Benjamin Pavard c'e...      None  mbappe\n",
       "1    pt  tudo a cair em cima do Neymar pelos erros q el...  Portugal  neymar\n",
       "2    ca                                    @surbZ__ Modric      None  modric\n",
       "3    es  RT @FichajeGoleador: 💣 BOMBAZO 💣 \\n🇪🇸 Real Mad...      None  hazard\n",
       "4    en  RT @xLioneI: Lionel Messi • 2012 • 91 goals in...      None   messi\n",
       "5    in  RT @Metro_TV: Kalah atau Menang, Modric Layak ...      None  modric\n",
       "6    en  RT @businessinsider: This explains the Neymar ...      None  neymar\n",
       "7    es  Creo que es el argumento menos argumento que h...      None    None\n",
       "8    fr  RT @mcrs_10: Les dirigeants du Real auraient p...      None  neymar\n",
       "9    fr  RT @beinsports_FR: 🗨️ Rakitic : ''Modric mérit...      None  modric\n",
       "10   fr  RT @ActuFoot_: Lorsque Paul Pogba et N'Golo Ka...      None   pogba\n",
       "11   it  RT @orfini: Abbiamo preso più voti di Salvini....      None    None\n",
       "12   en  RT @__mitchbrown: #England #WorldCup⁠ ⁠ XI - \\...      None    kane\n",
       "13  und  RT @qew1234567: #شركة_تنظيف_منازل_بالرياض 0509...      None    None\n",
       "14   en  RT @EPLBible: Dida played for Brazil at the 19...      None  mbappe\n",
       "15   en  LMAO imagine Hazard settling for Europa league...      None  hazard\n",
       "16   fr  RT @mcrs_10: Les dirigeants du Real auraient p...      None  neymar\n",
       "17   fr  RT @ThugPac_: J’ai un pote qui m’a envoyé ça e...      None    None\n",
       "18   fr  C’est au canal 😭😭😭😂😂😂😂😂😂 c’est au grand chêne ...      None    None\n",
       "19   en  Hazard playing under an attacking coach for th...      None  hazard"
      ]
     },
     "execution_count": 44,
     "metadata": {},
     "output_type": "execute_result"
    }
   ],
   "source": [
    "## filtrando aqueles q mais foram falados (termos mais influentes)\n",
    "players = []\n",
    "for tweet in tweets_data:\n",
    "    if 'text' in tweet:\n",
    "        if word_in_text('neymar', tweet['text']):\n",
    "            players.append('neymar')\n",
    "        elif word_in_text('messi', tweet['text']):\n",
    "            players.append('messi')\n",
    "        elif word_in_text('lukaku', tweet['text']):\n",
    "            players.append('lukaku')\n",
    "        elif word_in_text('modric', tweet['text']):\n",
    "            players.append('modric')\n",
    "        elif word_in_text('hazard', tweet['text']):\n",
    "            players.append('hazard')\n",
    "        elif word_in_text('mbappe', tweet['text']):\n",
    "            players.append('mbappe')\n",
    "        elif word_in_text('cr7', tweet['text']):\n",
    "            players.append('cr7')\n",
    "        elif word_in_text('pogba', tweet['text']):\n",
    "            players.append('pogba')\n",
    "        elif word_in_text('rakitic', tweet['text']):\n",
    "            players.append('rakitic')\n",
    "        elif word_in_text('cr7', tweet['text']):\n",
    "            players.append('cr7')\n",
    "        elif word_in_text('kante', tweet['text']):\n",
    "            players.append('kante')\n",
    "        elif word_in_text('kane', tweet['text']):\n",
    "            players.append('kane')\n",
    "        else:\n",
    "            players.append('None')\n",
    "tweets['player'] = players\n",
    "tweets.head(20)"
   ]
  },
  {
   "cell_type": "code",
   "execution_count": 45,
   "metadata": {},
   "outputs": [
    {
     "data": {
      "text/plain": [
       "<matplotlib.axes._subplots.AxesSubplot at 0x118248e10>"
      ]
     },
     "execution_count": 45,
     "metadata": {},
     "output_type": "execute_result"
    },
    {
     "data": {
      "image/png": "[encoded data removed]",
      "text/plain": [
       "<matplotlib.figure.Figure at 0x1178aca90>"
      ]
     },
     "metadata": {},
     "output_type": "display_data"
    }
   ],
   "source": [
    "tweets_by_player = tweets['player'].value_counts()\n",
    "\n",
    "fig, ax = plt.subplots()\n",
    "ax.tick_params(axis='x', labelsize=15)\n",
    "ax.tick_params(axis='y', labelsize=10)\n",
    "ax.set_xlabel('Players', fontsize=15)\n",
    "ax.set_ylabel('Number of tweets' , fontsize=15)\n",
    "ax.set_title('Top 5 players', fontsize=15, fontweight='bold')\n",
    "tweets_by_player[:6].plot(ax=ax, kind='bar', color='green')"
   ]
  },
  {
   "cell_type": "code",
   "execution_count": null,
   "metadata": {},
   "outputs": [],
   "source": [
    "## Desafio: filtrando pelas coordenadas geográficas os tweets em português\n"
   ]
  }
 ],
 "metadata": {
  "kernelspec": {
   "display_name": "Python 3",
   "language": "python",
   "name": "python3"
  },
  "language_info": {
   "codemirror_mode": {
    "name": "ipython",
    "version": 3
   },
   "file_extension": ".py",
   "mimetype": "text/x-python",
   "name": "python",
   "nbconvert_exporter": "python",
   "pygments_lexer": "ipython3",
   "version": "3.6.4"
  }
 },
 "nbformat": 4,
 "nbformat_minor": 2
}
